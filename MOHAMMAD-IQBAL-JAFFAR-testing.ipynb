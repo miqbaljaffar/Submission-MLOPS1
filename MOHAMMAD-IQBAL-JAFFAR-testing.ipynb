{
 "cells": [
  {
   "cell_type": "code",
   "execution_count": 1,
   "metadata": {},
   "outputs": [],
   "source": [
    "import tensorflow as tf\n",
    "import pandas as pd\n",
    "import requests\n",
    "import json\n",
    "import base64"
   ]
  },
  {
   "cell_type": "code",
   "execution_count": 38,
   "metadata": {},
   "outputs": [],
   "source": [
    "# Load dataset\n",
    "df = pd.read_csv('data/news.csv')"
   ]
  },
  {
   "cell_type": "code",
   "execution_count": 40,
   "metadata": {},
   "outputs": [
    {
     "data": {
      "text/html": [
       "<div>\n",
       "<style scoped>\n",
       "    .dataframe tbody tr th:only-of-type {\n",
       "        vertical-align: middle;\n",
       "    }\n",
       "\n",
       "    .dataframe tbody tr th {\n",
       "        vertical-align: top;\n",
       "    }\n",
       "\n",
       "    .dataframe thead th {\n",
       "        text-align: right;\n",
       "    }\n",
       "</style>\n",
       "<table border=\"1\" class=\"dataframe\">\n",
       "  <thead>\n",
       "    <tr style=\"text-align: right;\">\n",
       "      <th></th>\n",
       "      <th>tweet</th>\n",
       "      <th>real_news</th>\n",
       "    </tr>\n",
       "  </thead>\n",
       "  <tbody>\n",
       "    <tr>\n",
       "      <th>0</th>\n",
       "      <td>zamalek continues its preparations for the el ...</td>\n",
       "      <td>1</td>\n",
       "    </tr>\n",
       "    <tr>\n",
       "      <th>1</th>\n",
       "      <td>sheikh salem al-amry, vice president of the ar...</td>\n",
       "      <td>1</td>\n",
       "    </tr>\n",
       "    <tr>\n",
       "      <th>2</th>\n",
       "      <td>the arab contractors tested 3 foreigners under...</td>\n",
       "      <td>1</td>\n",
       "    </tr>\n",
       "    <tr>\n",
       "      <th>3</th>\n",
       "      <td>an urgent decision for caf today regarding the...</td>\n",
       "      <td>1</td>\n",
       "    </tr>\n",
       "    <tr>\n",
       "      <th>4</th>\n",
       "      <td>al-masry refuses to postpone the al-ahly match...</td>\n",
       "      <td>1</td>\n",
       "    </tr>\n",
       "  </tbody>\n",
       "</table>\n",
       "</div>"
      ],
      "text/plain": [
       "                                               tweet  real_news\n",
       "0  zamalek continues its preparations for the el ...          1\n",
       "1  sheikh salem al-amry, vice president of the ar...          1\n",
       "2  the arab contractors tested 3 foreigners under...          1\n",
       "3  an urgent decision for caf today regarding the...          1\n",
       "4  al-masry refuses to postpone the al-ahly match...          1"
      ]
     },
     "execution_count": 40,
     "metadata": {},
     "output_type": "execute_result"
    }
   ],
   "source": [
    "# Menampilkan 5 data pertama yang memiliki label 1\n",
    "df[df['real_news'] == 1].head()"
   ]
  },
  {
   "cell_type": "code",
   "execution_count": 41,
   "metadata": {},
   "outputs": [
    {
     "data": {
      "text/html": [
       "<div>\n",
       "<style scoped>\n",
       "    .dataframe tbody tr th:only-of-type {\n",
       "        vertical-align: middle;\n",
       "    }\n",
       "\n",
       "    .dataframe tbody tr th {\n",
       "        vertical-align: top;\n",
       "    }\n",
       "\n",
       "    .dataframe thead th {\n",
       "        text-align: right;\n",
       "    }\n",
       "</style>\n",
       "<table border=\"1\" class=\"dataframe\">\n",
       "  <thead>\n",
       "    <tr style=\"text-align: right;\">\n",
       "      <th></th>\n",
       "      <th>tweet</th>\n",
       "      <th>real_news</th>\n",
       "    </tr>\n",
       "  </thead>\n",
       "  <tbody>\n",
       "    <tr>\n",
       "      <th>1000</th>\n",
       "      <td>he played almost over 8 matches against chelse...</td>\n",
       "      <td>0</td>\n",
       "    </tr>\n",
       "    <tr>\n",
       "      <th>1001</th>\n",
       "      <td>plan b: the ranger is our boy..</td>\n",
       "      <td>0</td>\n",
       "    </tr>\n",
       "    <tr>\n",
       "      <th>1002</th>\n",
       "      <td>do you think that we are talking seriously and...</td>\n",
       "      <td>0</td>\n",
       "    </tr>\n",
       "    <tr>\n",
       "      <th>1003</th>\n",
       "      <td>grandpa ferrera tells you that zamalek is stre...</td>\n",
       "      <td>0</td>\n",
       "    </tr>\n",
       "    <tr>\n",
       "      <th>1004</th>\n",
       "      <td>a statement by gamal al-ghandour with captain ...</td>\n",
       "      <td>0</td>\n",
       "    </tr>\n",
       "  </tbody>\n",
       "</table>\n",
       "</div>"
      ],
      "text/plain": [
       "                                                  tweet  real_news\n",
       "1000  he played almost over 8 matches against chelse...          0\n",
       "1001                    plan b: the ranger is our boy..          0\n",
       "1002  do you think that we are talking seriously and...          0\n",
       "1003  grandpa ferrera tells you that zamalek is stre...          0\n",
       "1004  a statement by gamal al-ghandour with captain ...          0"
      ]
     },
     "execution_count": 41,
     "metadata": {},
     "output_type": "execute_result"
    }
   ],
   "source": [
    "# Menampilkan 5 data pertama yang memiliki label 0\n",
    "df[df['real_news'] == 0].head()"
   ]
  },
  {
   "cell_type": "code",
   "execution_count": 42,
   "metadata": {},
   "outputs": [],
   "source": [
    "tweet = df['tweet'][1500]"
   ]
  },
  {
   "cell_type": "code",
   "execution_count": 43,
   "metadata": {},
   "outputs": [],
   "source": [
    "def prepare_json(tweet):\n",
    "    \"\"\"Mempersiapkan data dalam format JSON untuk dikirim ke model TensorFlow Serving.\"\"\"\n",
    "    feature_spec = {\n",
    "        'tweet': tf.train.Feature(\n",
    "            bytes_list=tf.train.BytesList(value=[bytes(tweet, 'utf-8')])\n",
    "        )\n",
    "    }\n",
    "    \n",
    "    example = tf.train.Example(\n",
    "        features=tf.train.Features(feature=feature_spec)\n",
    "    ).SerializeToString()\n",
    "    \n",
    "    result = [{\n",
    "        'examples': {\n",
    "            'b64': base64.b64encode(example).decode()\n",
    "        }\n",
    "    }]\n",
    "    \n",
    "    return json.dumps({\n",
    "        'signature_name': 'serving_default',\n",
    "        'instances': result\n",
    "    })"
   ]
  },
  {
   "cell_type": "code",
   "execution_count": 44,
   "metadata": {},
   "outputs": [
    {
     "name": "stdout",
     "output_type": "stream",
     "text": [
      "# al-nasr_ al-qadisiyah this is al-nasr club, nor a foreign club from the goalkeeper to the attack. i do not know any of them, they are all foreigners. i only knew omar hawsawi.\n",
      "\n",
      "This is Fake News (0.0024)\n"
     ]
    }
   ],
   "source": [
    "def predict(text):\n",
    "    \"\"\"Mengirim data ke model yang berjalan di TensorFlow Serving dan mendapatkan prediksi.\"\"\"\n",
    "    response = requests.post(\n",
    "        'http://localhost:8080/v1/models/Fake_News_football_model:predict',\n",
    "        data=prepare_json(text)\n",
    "    )\n",
    "    \n",
    "    prediction = response.json()['predictions'][0][0]\n",
    "    return prediction\n",
    "\n",
    "# Prediksi\n",
    "prediction = predict(tweet)\n",
    "\n",
    "# Output hasil prediksi\n",
    "print(f'{tweet}\\n')\n",
    "if prediction > 0.6:\n",
    "    print(f'This is Real News ({prediction:.4f})')\n",
    "else:\n",
    "    print(f'This is Fake News ({prediction:.4f})')"
   ]
  }
 ],
 "metadata": {
  "kernelspec": {
   "display_name": "mlops-tfx",
   "language": "python",
   "name": "python3"
  },
  "language_info": {
   "codemirror_mode": {
    "name": "ipython",
    "version": 3
   },
   "file_extension": ".py",
   "mimetype": "text/x-python",
   "name": "python",
   "nbconvert_exporter": "python",
   "pygments_lexer": "ipython3",
   "version": "3.9.10"
  }
 },
 "nbformat": 4,
 "nbformat_minor": 2
}
